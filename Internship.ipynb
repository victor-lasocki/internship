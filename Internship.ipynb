{
 "cells": [
  {
   "cell_type": "markdown",
   "id": "ab76ae5b",
   "metadata": {},
   "source": [
    "<a href=\"https://www.notion.so/homagames/Wiki-Homa-322af52917b44498a5775144aa4c0a8e\" style=\"text-decoration:none;\"><img src='homalogo.jpeg' style='position:absolute; top:10; right:0; margin-right:50px' width='70px' height='' alt='Homa Games Logo'></a>\n",
    "\n",
    "# Summer Internship - Homa Games 🎮 🖥"
   ]
  },
  {
   "cell_type": "markdown",
   "id": "e214b394",
   "metadata": {},
   "source": [
    "## Day 1 - Welcome Day &#128075;"
   ]
  },
  {
   "cell_type": "markdown",
   "id": "a6d6a58c",
   "metadata": {},
   "source": [
    "__10am__ - _Data Team meeting_ 👥\n",
    "> - Talk about progress on current projects\n",
    "> - Objectives for the current week\n",
    "> - Any new things this week"
   ]
  },
  {
   "cell_type": "markdown",
   "id": "84aafc2c",
   "metadata": {},
   "source": [
    "__10.30am__ - _Settling in_ 💻\n",
    "> - Read about the company's story and misson\n",
    "> - Get familiar with paltforms/software used by the company (Notion, Slack, etc.)\n",
    "> - Make sure I have all the tools needed to work (1password, Homa Lab, etc.)"
   ]
  },
  {
   "cell_type": "markdown",
   "id": "cd0a959e",
   "metadata": {},
   "source": [
    "__2pm__ - _Introduction to the data team w/ Nicolas_ 📋\n",
    "> - Presentation of both data teams\n",
    ">  - Data platform\n",
    ">  - Data analytics\n",
    "> - Broad overview of how the data team operates\n",
    "> - Presentation of ongoing projects (MMP, Homa Analytics, etc.)"
   ]
  },
  {
   "cell_type": "markdown",
   "id": "cf7fef86",
   "metadata": {},
   "source": [
    "__4pm__ - _More reading and learning_ 📒\n",
    "> - Familiarise myself with company glossary\n",
    "> - Reading about UA & M (User Aquisition and Monetisation)"
   ]
  },
  {
   "cell_type": "markdown",
   "id": "6e9517c3",
   "metadata": {},
   "source": [
    "__Overview of the day__ - _A few notes_ 📝\n",
    "> - Useful content to come back to: <a href=\"https://www.notion.so/homagames/Glossary-980d6ef14c494b358a6e18f5c2f85e4e\" style=\"text-decoration:None; color:gray;\">glossary</a>, <a href=\"https://www.notion.so/homagames/Summer-Internship-objectives-3d8d06024d924787b2ab671305a22d90\" style=\"text-decoration:None; color:gray;\">internship objectives</a>, <a href=\"https://www.notion.so/homagames/UA-Monet-101-0594f91177ce4486a5f675bb0a4cd315\" style=\"text-decoration:None; color:gray;\">UAM101</a>\n",
    "> - Two main divisions in data - data platform gathers data so that data analytics can work on it\n",
    "> - UA (develop strategies ot get as many users to play our games) & M (generate revenue via adevrtisement or IAP)\n",
    "> - This company centers itself around 3 main industries - mobile industry, gaming industry and AdTech industry"
   ]
  },
  {
   "cell_type": "markdown",
   "id": "afa51a0d",
   "metadata": {},
   "source": [
    "## Day 2 - User Aquisition and Monetisation 💸"
   ]
  },
  {
   "cell_type": "markdown",
   "id": "1b48cf58",
   "metadata": {},
   "source": [
    "__9am__ - _A more in depth look at UA & M_ 👓\n",
    "> - UA & M work towards the same goal: earn more from every user than what we spent to acquire this player in the first place\n",
    ">  - In the end, they must satisfy this equation: CPI < LTV (CPI = Cost Per Install, LTV = Lifetime Value)\n",
    "> - We have 5 factors we can play with to increase revenue:\n",
    ">  1. Session length (the longer they play, the more impressions we can make)\n",
    ">  2. Retention rate (the more they come back, the more impressions)\n",
    ">  3. IAPs (consumables, non consumables, subscriptions - for hypercasual games <5% of revenue)\n",
    ">  4. Ad placement (banners, interstitials, rewarded videos)\n",
    ">  5. eCPMs (price of 1000 impressions)\n",
    "> - Therefore we can compute LTV as: (#impressions * eCPM) + IAP\n",
    "> - eCPM and Impressions: eCPM is the effective Cost per 1000 impressions, and Impressions are the total number of times the ad is seen (≠ fill rate, which refers to the number of ads Monetization Networks return compared to the number of ads you request) => publishers make money based on impressions\n",
    "> - In App Purchases: In hypercasual games, they typically represents ~5% of the total revenue generated: <0.5% in Pure satisfying, 1-10% in Arcade and Puzzle, 20-40% in Idle <img src=\"https://www.notion.so/image/https%3A%2F%2Fs3-us-west-2.amazonaws.com%2Fsecure.notion-static.com%2Fed9d8ee5-9898-41b2-b13d-ede690c1298b%2FUntitled.png?table=block&id=dbb7f5df-67a7-45e3-8974-957954c63279&spaceId=45a4f9fa-a674-45ec-9dd5-45e4bc7ccb12&width=2000&userId=f838d347-e033-4284-a311-30344f579c6f&cache=v2\" style=\"max-width: 800px\">"
   ]
  },
  {
   "cell_type": "markdown",
   "id": "293a208a",
   "metadata": {},
   "source": [
    "__11.30am__ - _Bi-Weekly Global Meeting_ 🌍\n",
    "> - General announcements: new HR software, changes in employees, job recruitment...\n",
    "> - New games and ad campaigns\n",
    "> - Competition and new strategies"
   ]
  },
  {
   "cell_type": "markdown",
   "id": "fc534dbc",
   "metadata": {},
   "source": [
    "__2pm__ - _User Acquisition & Monetization Data flows_ 📊\n",
    "> - Importance of MMP\n",
    ">  - Records ad clicks and downloads to measure cost of ad campaigns in other apps for our games\n",
    ">  - Reports installs to software running campaign\n",
    ">  - On other side, also measures revenue from ad campaigns in our game for other parties\n",
    "> - This information is crucial as it is in our interest to report ALL installs to campaign in order to have more succesful campaigns in the future, even if in the short run it might seem like we could save mone by under reporting"
   ]
  },
  {
   "cell_type": "markdown",
   "id": "700951de",
   "metadata": {},
   "source": [
    "__3pm__ - _Getting familir with Redshift and MySQL_ 📮\n",
    "> - Redshift database stored behind firewall\n",
    ">  - To access it, go through _ssh_ in terminal and create a 'tunnel' through a precise IP"
   ]
  }
 ],
 "metadata": {
  "kernelspec": {
   "display_name": "Python 3",
   "language": "python",
   "name": "python3"
  },
  "language_info": {
   "codemirror_mode": {
    "name": "ipython",
    "version": 3
   },
   "file_extension": ".py",
   "mimetype": "text/x-python",
   "name": "python",
   "nbconvert_exporter": "python",
   "pygments_lexer": "ipython3",
   "version": "3.8.8"
  }
 },
 "nbformat": 4,
 "nbformat_minor": 5
}
