{
 "cells": [
  {
   "cell_type": "markdown",
   "id": "ab76ae5b",
   "metadata": {},
   "source": [
    "<a href=\"https://www.notion.so/homagames/Wiki-Homa-322af52917b44498a5775144aa4c0a8e\" style=\"text-decoration:none;\"><img src='data:image/jpeg;base64,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' style='position:absolute; top:10; right:0; margin-right:50px' width='70px' height='' alt='Homa Games Logo'></a>\n",
    "\n",
    "# Summer Internship - Homa Games 🎮 🖥"
   ]
  },
  {
   "cell_type": "markdown",
   "id": "e214b394",
   "metadata": {},
   "source": [
    "## Day 1 - Welcome Day &#128075;"
   ]
  },
  {
   "cell_type": "markdown",
   "id": "a6d6a58c",
   "metadata": {},
   "source": [
    "__10am__ - _Data Team meeting_ 👥\n",
    "> - Talk about progress on current projects\n",
    "> - Objectives for the current week\n",
    "> - Any new things this week"
   ]
  },
  {
   "cell_type": "markdown",
   "id": "84aafc2c",
   "metadata": {},
   "source": [
    "__10.30am__ - _Settling in_ 💻\n",
    "> - Read about the company's story and misson\n",
    "> - Get familiar with paltforms/software used by the company (Notion, Slack, etc.)\n",
    "> - Make sure I have all the tools needed to work (1password, Homa Lab, etc.)"
   ]
  },
  {
   "cell_type": "markdown",
   "id": "cd0a959e",
   "metadata": {},
   "source": [
    "__2pm__ - _Introduction to the data team w/ Nicolas_ 📋\n",
    "> - Presentation of both data teams\n",
    ">  - Data platform\n",
    ">  - Data analytics\n",
    "> - Broad overview of how the data team operates\n",
    "> - Presentation of ongoing projects (MMP, Homa Analytics, etc.)"
   ]
  },
  {
   "cell_type": "markdown",
   "id": "cf7fef86",
   "metadata": {},
   "source": [
    "__4pm__ - _More reading and learning_ 📒\n",
    "> - Familiarise myself with company glossary\n",
    "> - Reading about UA & M (User Aquisition and Monetisation)"
   ]
  },
  {
   "cell_type": "markdown",
   "id": "6e9517c3",
   "metadata": {},
   "source": [
    "__Overview of the day__ - _A few notes_ 📝\n",
    "> - Useful content to come back to: <a href=\"https://www.notion.so/homagames/Glossary-980d6ef14c494b358a6e18f5c2f85e4e\" style=\"text-decoration:None; color:gray;\">glossary</a>, <a href=\"https://www.notion.so/homagames/Summer-Internship-objectives-3d8d06024d924787b2ab671305a22d90\" style=\"text-decoration:None; color:gray;\">internship objectives</a>, <a href=\"https://www.notion.so/homagames/UA-Monet-101-0594f91177ce4486a5f675bb0a4cd315\" style=\"text-decoration:None; color:gray;\">UAM101</a>\n",
    "> - Two main divisions in data - data platform gathers data so that data analytics can work on it\n",
    "> - UA (develop strategies ot get as many users to play our games) & M (generate revenue via adevrtisement or IAP)\n",
    "> - This company centers itself around 3 main industries - mobile industry, gaming industry and AdTech industry"
   ]
  },
  {
   "cell_type": "markdown",
   "id": "afa51a0d",
   "metadata": {},
   "source": [
    "## Day 2 - User Aquisition and Monetisation 💸"
   ]
  },
  {
   "cell_type": "markdown",
   "id": "1b48cf58",
   "metadata": {},
   "source": [
    "__9am__ - _A more in depth look at UA & M_ 👓\n",
    "> - UA & M work towards the same goal: earn more from every user than what we spent to acquire this player in the first place\n",
    ">  - In the end, they must satisfy this equation: CPI < LTV (CPI = Cost Per Install, LTV = Lifetime Value)\n",
    "> - We have 5 factors we can play with to increase revenue:\n",
    ">  1. Session length (the longer they play, the more impressions we can make)\n",
    ">  2. Retention rate (the more they come back, the more impressions)\n",
    ">  3. IAPs (consumables, non consumables, subscriptions - for hypercasual games <5% of revenue)\n",
    ">  4. Ad placement (banners, interstitials, rewarded videos)\n",
    ">  5. eCPMs (price of 1000 impressions)\n",
    "> - Therefore we can compute LTV as: (#impressions * eCPM) + IAP\n",
    "> - eCPM and Impressions: eCPM is the effective Cost per 1000 impressions, and Impressions are the total number of times the ad is seen (≠ fill rate, which refers to the number of ads Monetization Networks return compared to the number of ads you request) => publishers make money based on impressions\n",
    "> - In App Purchases: In hypercasual games, they typically represents ~5% of the total revenue generated: <0.5% in Pure satisfying, 1-10% in Arcade and Puzzle, 20-40% in Idle <img src=\"https://www.notion.so/image/https%3A%2F%2Fs3-us-west-2.amazonaws.com%2Fsecure.notion-static.com%2Fed9d8ee5-9898-41b2-b13d-ede690c1298b%2FUntitled.png?table=block&id=dbb7f5df-67a7-45e3-8974-957954c63279&spaceId=45a4f9fa-a674-45ec-9dd5-45e4bc7ccb12&width=2000&userId=f838d347-e033-4284-a311-30344f579c6f&cache=v2\" style=\"max-width: 800px\">"
   ]
  },
  {
   "cell_type": "markdown",
   "id": "293a208a",
   "metadata": {},
   "source": [
    "__11.30am__ - _Bi-Weekly Global Meeting_ 🌍\n",
    "> - General announcements: new HR software, changes in employees, job recruitment...\n",
    "> - New games and ad campaigns\n",
    "> - Competition and new strategies"
   ]
  },
  {
   "cell_type": "markdown",
   "id": "fc534dbc",
   "metadata": {},
   "source": [
    "__2pm__ - _User Acquisition & Monetization Data flows_ 📊\n",
    "> - Importance of MMP\n",
    ">  - Records ad clicks and downloads to measure cost of ad campaigns in other apps for our games\n",
    ">  - Reports installs to software running campaign\n",
    ">  - On other side, also measures revenue from ad campaigns in our game for other parties\n",
    "> - This information is crucial as it is in our interest to report ALL installs to campaign in order to have more succesful campaigns in the future, even if in the short run it might seem like we could save mone by under reporting"
   ]
  },
  {
   "cell_type": "markdown",
   "id": "700951de",
   "metadata": {},
   "source": [
    "__3pm__ - _Getting familir with Redshift and MySQL_ 📮\n",
    "> - Redshift database stored behind firewall\n",
    ">  - To access it, go through _ssh_ in terminal and create a 'tunnel' through a precise IP"
   ]
  }
 ],
 "metadata": {
  "kernelspec": {
   "display_name": "Python 3",
   "language": "python",
   "name": "python3"
  },
  "language_info": {
   "codemirror_mode": {
    "name": "ipython",
    "version": 3
   },
   "file_extension": ".py",
   "mimetype": "text/x-python",
   "name": "python",
   "nbconvert_exporter": "python",
   "pygments_lexer": "ipython3",
   "version": "3.8.8"
  }
 },
 "nbformat": 4,
 "nbformat_minor": 5
}
